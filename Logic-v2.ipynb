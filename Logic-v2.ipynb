{
 "cells": [
  {
   "cell_type": "code",
   "execution_count": 1,
   "metadata": {},
   "outputs": [],
   "source": [
    "import numpy as np\n",
    "import matplotlib.pyplot as plt"
   ]
  },
  {
   "cell_type": "code",
   "execution_count": 2,
   "metadata": {},
   "outputs": [
    {
     "name": "stdout",
     "output_type": "stream",
     "text": [
      "1000\n"
     ]
    }
   ],
   "source": [
    "num_ppl = 1000\n",
    "num = 1\n",
    "layer_1 = []\n",
    "\n",
    "for i in range(num_ppl):\n",
    "    \n",
    "    layer_1_data = np.empty((num,0))\n",
    "\n",
    "    # GENDER, AGE, HEIGHT, WEIGHT\n",
    "    gender = np.random.randint(0,2,(num,1))\n",
    "    gender = np.where(gender==0, -1, gender)\n",
    "    age = np.random.randint(1,100,(num,1))/100\n",
    "    height = np.random.randint(100,200,(num,1))/100\n",
    "    weight = np.random.randint(40,150,(num,1))/100\n",
    "\n",
    "    #Heart Rate\n",
    "    hr = np.random.randint(0,2,(num,1))\n",
    "    #BP\n",
    "    bp = np.random.randint(0,2,(num,1))\n",
    "\n",
    "    #Prev Conditions\n",
    "    #Kidney\n",
    "    k = np.random.randint(0,2,(num,1))\n",
    "    #Heart\n",
    "    hrt = np.random.randint(0,2,(num,1))\n",
    "    #Lungs\n",
    "    l = np.random.randint(0,2,(num,1))\n",
    "    #Stroke\n",
    "    s = np.random.randint(0,2,(num,1))\n",
    "    #Diabetes\n",
    "    d = np.random.randint(0,2,(num,1))\n",
    "    #Hypertension\n",
    "    h =  np.random.randint(0,2,(num,1))\n",
    "    #Immunocompromised\n",
    "    #HIV\n",
    "    hiv = np.random.randint(0,2,(num,1))\n",
    "    #Transplant\n",
    "    trans = np.random.randint(0,2,(num,1))\n",
    "\n",
    "    #Symptoms\n",
    "\n",
    "    def encoding_array(i):\n",
    "        switcher={\n",
    "                    1:np.array([1,0,0,0,0,0,0]),\n",
    "                    2:np.array([0,1,0,0,0,0,0]),\n",
    "                    3:np.array([0,0,1,0,0,0,0]),\n",
    "                    4:np.array([0,0,0,1,0,0,0]),\n",
    "                    5:np.array([0,0,0,0,1,0,0]), \n",
    "                    6:np.array([0,0,0,0,0,1,0]),\n",
    "                    7:np.array([0,0,0,0,0,0,1])\n",
    "                    #'a':np.array([1,0,0,0,0,0,0]),\n",
    "                    #'b':np.array([0,1,0,0,0,0,0]),\n",
    "                    #'c':np.array([0,0,1,0,0,0,0]),\n",
    "                    #'d':np.array([0,0,0,1,0,0,0]),\n",
    "                    #'e':np.array([0,0,0,0,1,0,0]),\n",
    "                    #'f':np.array([0,0,0,0,0,1,0]),\n",
    "                    #'g':np.array([0,0,0,0,0,0,1])\n",
    "                 }\n",
    "        return switcher.get(i,np.array([0,0,0,0,0,0,0]))\n",
    "\n",
    "    #Fever\n",
    "    fever = encoding_array((np.random.randint(0,8)))\n",
    "    #Cough\n",
    "    cough = encoding_array((np.random.randint(0,8)))\n",
    "    #Shortness of breadth\n",
    "    sb = encoding_array(((np.random.randint(0,8))))\n",
    "    #Loss of taste/smell          #Rare Case\n",
    "    ts = np.random.randint(0,2,(num,1))\n",
    "    #Fatigue\n",
    "    f = np.random.randint(0,2,(num,1))\n",
    "\n",
    "    #Other Symptoms\n",
    "    #Sore throat\n",
    "    #headache\n",
    "    #muscle pain\n",
    "    #chills\n",
    "    #nausea/vomiting\n",
    "    #nasal congestion\n",
    "    #diarrhea\n",
    "\n",
    "    os = np.random.randint(0,2,(num,7))\n",
    "\n",
    "    #GENDER, AGE, HEIGHT, WEIGHT\n",
    "    #Heart Rate/BP\n",
    "\n",
    "    #Prev Conditions\n",
    "    #Kidney\n",
    "    #Heart\n",
    "    #Lungs\n",
    "    #Stroke\n",
    "    #Diabetes\n",
    "    #Hypertension\n",
    "\n",
    "    #Immunocompromised\n",
    "    #HIV\n",
    "    #Transplant\n",
    "\n",
    "    #Symptoms\n",
    "    #Fever\n",
    "    #Cough\n",
    "    #Shortness of breadth\n",
    "\n",
    "    #Other Symptoms\n",
    "    #Sore throat\n",
    "    #headache\n",
    "    #muscle pain\n",
    "    #chills\n",
    "    #nausea/vomiting\n",
    "    #nasal congestion\n",
    "    #diarrhea\n",
    "\n",
    "\n",
    "\n",
    "    layer_1_data = np.append(layer_1_data, gender,axis=1) #GENDER\n",
    "    layer_1_data = np.append(layer_1_data, age,axis=1) # AGE\n",
    "    layer_1_data = np.append(layer_1_data, height,axis=1) # HEIGHT\n",
    "    layer_1_data = np.append(layer_1_data, weight,axis=1) # WEIGHT\n",
    "    layer_1_data = np.append(layer_1_data, hr,axis=1)  #Heart Rate\n",
    "    layer_1_data = np.append(layer_1_data, bp,axis=1)  #BP\n",
    "    layer_1_data = np.append(layer_1_data, k,axis=1) #Kidney\n",
    "    layer_1_data = np.append(layer_1_data, hrt,axis=1) #Heart\n",
    "    layer_1_data = np.append(layer_1_data, l,axis=1) #Lung\n",
    "    layer_1_data = np.append(layer_1_data, s,axis=1) #Stroke\n",
    "    layer_1_data = np.append(layer_1_data, d,axis=1) #Diabetes\n",
    "    layer_1_data = np.append(layer_1_data, h,axis=1) #Hypertension\n",
    "    layer_1_data = np.append(layer_1_data, hiv,axis=1) #HIV\n",
    "    layer_1_data = np.append(layer_1_data, trans,axis=1) #Transplant\n",
    "    layer_1_data = np.append(layer_1_data, fever) #Fever\n",
    "    layer_1_data = np.append(layer_1_data, cough) #Cough\n",
    "    layer_1_data = np.append(layer_1_data, sb) #Shortness of breadth\n",
    "    layer_1_data = np.append(layer_1_data, ts) #Loss of taste/smell\n",
    "    layer_1_data = np.append(layer_1_data, f) #Fatigue\n",
    "    layer_1_data = np.append(layer_1_data,os) #Other Symptoms\n",
    "\n",
    "    # print(layer_1_data.shape)\n",
    "\n",
    "    layer_1.append(layer_1_data)\n",
    "    \n",
    "print(len(layer_1))"
   ]
  },
  {
   "cell_type": "code",
   "execution_count": 3,
   "metadata": {},
   "outputs": [
    {
     "name": "stdout",
     "output_type": "stream",
     "text": [
      "(44,)\n"
     ]
    }
   ],
   "source": [
    "#Layer 1 Data\n",
    "\n",
    "#GENDER, AGE, HEIGHT, WEIGHT\n",
    "#Heart Rate/BP\n",
    "\n",
    "#Prev Conditions\n",
    "#Kidney\n",
    "#Heart\n",
    "#Lungs\n",
    "#Stroke\n",
    "#Diabetes\n",
    "#Hypertension\n",
    "\n",
    "#Immunocompromised\n",
    "#HIV\n",
    "#Transplant\n",
    "\n",
    "#Symptoms\n",
    "#Fever\n",
    "#Cough\n",
    "#Shortness of breadth\n",
    "\n",
    "#Other Symptoms\n",
    "#Sore throat\n",
    "#headache\n",
    "#muscle pain\n",
    "#chills\n",
    "#nausea/vomiting\n",
    "#nasal congestion\n",
    "#diarrhea\n",
    "\n",
    "# GENDER, AGE, HEIGHT, WEIGHT weights\n",
    "weight_gahw = np.array([0,0,0,0])  #4\n",
    "#Heart Rate/BP weights\n",
    "weight_hb = np.array([0,0])  #2\n",
    "#Prev Conditions\n",
    "#kidney\n",
    "#Heart\n",
    "#Lungs\n",
    "#Stroke\n",
    "#Diabetes\n",
    "#Hypertension\n",
    "weight_pc = np.array([0,0,0,0,0,0])  #6\n",
    "#Immunocompromised\n",
    "#HIV\n",
    "#Transplant\n",
    "weight_im = np.array([0,0])  #2\n",
    "#Symptoms\n",
    "#Fever\n",
    "weight_f = np.array([7,8,6,5,0,0,0])  #7\n",
    "#Cough\n",
    "weight_c = np.array([8,6,0,0,0,0,0])  #7\n",
    "#Shortness of breadth\n",
    "weight_sb = np.array([8,0,0,0,0,0,0])  #7\n",
    "#Loss of taste/smell\n",
    "weight_ts = np.array([5.4])  #1\n",
    "#Fatigue\n",
    "weight_ftg = np.array([6])   #1\n",
    "#Other Symptoms\n",
    "#Sore throat\n",
    "#headache\n",
    "#muscle pain\n",
    "#chills\n",
    "#nausea/vomiting\n",
    "#nasal congestion\n",
    "#diarrhea\n",
    "weight_os = np.array([4,4,4,4,2,2,2])   #7\n",
    "\n",
    "weight = np.empty((num,0))\n",
    "weight = np.append(weight,weight_gahw)\n",
    "weight = np.append(weight,weight_hb)\n",
    "weight = np.append(weight,weight_pc)\n",
    "weight = np.append(weight,weight_im)\n",
    "weight = np.append(weight,weight_f)\n",
    "weight = np.append(weight,weight_c)\n",
    "weight = np.append(weight,weight_sb)\n",
    "weight = np.append(weight,weight_ts)\n",
    "weight = np.append(weight,weight_ftg)\n",
    "weight = np.append(weight,weight_os)\n",
    "\n",
    "print(weight.shape)"
   ]
  },
  {
   "cell_type": "code",
   "execution_count": 4,
   "metadata": {},
   "outputs": [
    {
     "name": "stdout",
     "output_type": "stream",
     "text": [
      "[8.0, 21.4, 27.4, 22.0, 32.4, 29.4, 14.0, 26.0, 21.4, 4.0, 32.0, 8.0, 13.0, 21.0, 25.4, 13.4, 34.0, 10.0, 21.4, 22.0, 16.0, 7.4, 16.0, 19.4, 13.4, 24.0, 13.0, 16.0, 15.0, 25.4, 18.0, 18.0, 13.4, 25.4, 30.0, 26.0, 6.0, 18.4, 25.0, 20.0, 24.0, 31.4, 27.4, 7.4, 14.0, 23.0, 23.4, 36.0, 15.4, 22.0, 29.4, 30.4, 20.0, 22.0, 17.4, 12.0, 18.0, 23.0, 15.4, 34.4, 24.4, 19.0, 16.0, 29.4, 23.0, 23.4, 21.4, 27.4, 23.0, 34.4, 12.0, 38.0, 35.4, 20.0, 10.0, 19.4, 25.4, 17.4, 20.0, 20.0, 34.0, 21.4, 4.0, 17.0, 29.4, 15.4, 15.0, 18.4, 30.4, 27.4, 26.0, 18.0, 36.0, 33.4, 33.0, 21.4, 17.4, 28.0, 34.0, 29.0, 14.0, 23.0, 16.0, 23.4, 19.4, 20.4, 20.0, 16.0, 25.0, 13.4, 6.0, 12.0, 28.4, 23.4, 16.0, 21.4, 38.0, 16.0, 18.0, 26.4, 13.0, 27.4, 12.0, 23.4, 27.4, 30.4, 6.0, 23.4, 12.0, 19.4, 22.0, 19.4, 29.0, 15.4, 14.0, 17.4, 19.4, 26.4, 26.0, 16.0, 42.0, 17.4, 10.0, 20.0, 18.0, 16.0, 32.4, 13.4, 9.4, 35.4, 41.4, 30.4, 18.0, 23.0, 24.4, 26.4, 33.4, 30.4, 17.4, 22.4, 15.4, 12.0, 28.4, 17.4, 14.0, 22.0, 48.4, 22.4, 19.4, 22.0, 18.0, 13.4, 18.0, 28.0, 14.0, 15.0, 28.0, 17.4, 16.0, 15.0, 22.0, 14.0, 20.0, 23.4, 25.4, 17.0, 25.0, 45.4, 2.0, 29.4, 23.0, 37.4, 25.4, 33.4, 19.0, 30.0, 12.0, 21.4, 28.0, 23.4, 17.4, 6.0, 13.4, 2.0, 18.0, 16.0, 25.4, 17.0, 8.0, 27.4, 24.4, 19.4, 19.4, 8.0, 12.0, 10.0, 27.4, 26.0, 20.0, 18.0, 33.4, 32.0, 25.4, 21.4, 14.0, 24.0, 19.0, 18.0, 34.4, 23.4, 24.4, 39.4, 27.4, 6.0, 22.4, 18.0, 12.0, 21.4, 20.0, 39.4, 24.0, 19.4, 26.0, 29.4, 33.0, 24.0, 36.0, 24.4, 26.0, 22.0, 36.0, 22.0, 15.0, 37.4, 13.4, 30.0, 34.0, 10.0, 35.4, 30.0, 21.4, 10.0, 19.4, 27.0, 30.4, 33.4, 18.0, 23.4, 26.0, 26.0, 25.4, 16.0, 23.4, 26.4, 14.0, 14.0, 35.4, 16.0, 39.4, 22.0, 23.4, 34.4, 39.4, 24.4, 20.0, 25.4, 8.0, 2.0, 32.0, 17.4, 23.4, 21.4, 18.0, 20.0, 19.4, 14.0, 13.0, 45.4, 20.0, 15.4, 23.0, 28.4, 20.0, 43.4, 9.4, 29.0, 36.4, 19.0, 19.4, 14.0, 25.4, 32.0, 13.4, 25.4, 23.4, 23.4, 23.0, 31.4, 16.0, 20.0, 12.0, 37.4, 8.0, 16.0, 34.0, 28.0, 20.0, 15.4, 8.0, 21.4, 24.0, 29.4, 18.0, 15.4, 31.4, 50.4, 20.0, 20.0, 11.0, 16.0, 21.0, 24.0, 35.4, 39.0, 9.4, 29.0, 17.4, 14.0, 12.0, 24.4, 20.4, 22.4, 18.4, 24.0, 21.4, 33.0, 26.4, 20.4, 21.4, 17.0, 18.0, 24.4, 26.4, 16.0, 26.0, 15.4, 17.4, 15.4, 20.0, 13.4, 14.0, 24.0, 30.4, 21.4, 2.0, 46.0, 16.0, 32.4, 26.0, 29.4, 29.4, 43.4, 4.0, 19.4, 24.4, 16.0, 32.4, 30.4, 12.0, 26.0, 24.0, 15.4, 15.4, 10.0, 20.0, 14.0, 25.4, 17.0, 21.0, 4.0, 23.4, 15.4, 25.0, 27.4, 27.4, 27.0, 31.4, 29.0, 33.0, 30.4, 43.0, 24.4, 38.4, 16.0, 26.0, 34.4, 34.4, 37.0, 24.4, 25.4, 30.0, 20.0, 21.4, 27.4, 20.4, 20.0, 27.4, 16.0, 35.4, 22.0, 28.0, 17.4, 19.4, 28.0, 14.0, 39.4, 21.0, 28.0, 23.4, 16.4, 21.4, 24.0, 10.0, 24.0, 23.0, 23.4, 8.0, 39.4, 30.4, 16.0, 17.0, 20.0, 15.4, 15.4, 23.0, 29.0, 29.4, 22.4, 16.0, 24.4, 35.4, 21.4, 32.4, 47.4, 9.4, 38.0, 29.4, 20.0, 19.0, 13.0, 36.4, 26.0, 23.0, 6.0, 30.4, 20.0, 21.0, 27.4, 26.4, 21.4, 11.0, 31.4, 21.4, 24.0, 24.4, 24.0, 30.0, 18.0, 24.0, 20.0, 26.4, 22.4, 30.0, 15.4, 20.4, 21.4, 30.4, 28.4, 21.4, 6.0, 8.0, 24.0, 17.0, 31.4, 21.4, 17.4, 31.0, 27.4, 32.4, 25.4, 23.4, 14.0, 20.0, 23.0, 31.4, 23.4, 20.0, 27.4, 27.4, 14.0, 25.4, 30.0, 14.0, 31.4, 22.0, 16.4, 12.0, 41.4, 27.4, 25.4, 16.0, 28.4, 23.0, 12.0, 27.0, 27.0, 12.0, 15.4, 28.4, 22.0, 24.0, 10.0, 23.4, 22.4, 33.4, 14.0, 23.4, 12.0, 17.4, 25.4, 24.0, 14.0, 16.0, 22.4, 23.4, 28.4, 19.0, 17.4, 27.4, 37.4, 31.4, 39.4, 9.4, 17.4, 24.0, 28.0, 27.4, 29.4, 10.0, 28.4, 25.0, 12.0, 16.0, 23.4, 20.0, 23.4, 34.0, 24.0, 25.4, 17.0, 8.0, 30.4, 10.0, 14.4, 17.4, 17.4, 29.4, 26.4, 25.4, 26.0, 23.4, 33.4, 25.0, 22.0, 21.4, 26.4, 23.4, 23.4, 21.4, 28.0, 31.4, 17.4, 28.4, 27.4, 25.0, 24.0, 18.4, 20.0, 29.0, 23.4, 23.4, 30.0, 27.4, 21.4, 18.0, 29.4, 9.0, 18.0, 35.4, 16.0, 23.0, 29.0, 39.4, 15.4, 26.0, 25.0, 22.4, 19.0, 13.4, 6.0, 19.0, 13.0, 24.0, 23.4, 19.4, 19.4, 14.0, 17.0, 23.4, 16.0, 16.0, 31.0, 12.0, 21.0, 30.0, 18.0, 10.0, 19.4, 19.4, 25.4, 26.4, 11.0, 17.4, 17.0, 30.4, 31.4, 21.4, 23.4, 25.4, 30.4, 31.4, 33.4, 26.0, 10.0, 34.4, 17.4, 26.4, 45.4, 25.4, 18.0, 14.0, 12.0, 25.4, 27.4, 29.4, 22.0, 29.4, 13.4, 24.0, 23.0, 25.4, 33.4, 32.4, 22.0, 30.0, 18.4, 14.0, 17.0, 32.0, 11.4, 21.4, 29.4, 25.4, 20.0, 29.4, 28.4, 37.4, 15.4, 9.4, 32.0, 29.4, 24.0, 29.4, 25.4, 39.4, 16.0, 21.4, 19.4, 23.4, 25.0, 22.0, 37.4, 18.0, 11.4, 20.4, 32.4, 12.0, 34.4, 21.4, 8.0, 9.4, 33.4, 17.4, 22.0, 29.4, 26.4, 28.0, 27.4, 27.0, 12.0, 8.0, 26.0, 35.4, 22.0, 21.4, 25.4, 22.0, 30.4, 29.4, 33.4, 18.0, 23.4, 19.4, 20.0, 24.4, 11.4, 20.4, 13.4, 24.0, 21.0, 35.0, 28.0, 12.0, 30.4, 27.4, 26.0, 17.4, 32.4, 23.4, 21.4, 15.4, 31.4, 27.4, 18.0, 17.4, 19.4, 10.0, 8.0, 25.0, 25.4, 20.4, 19.4, 18.0, 25.4, 26.4, 26.0, 20.0, 29.4, 29.4, 15.4, 34.4, 12.0, 21.4, 15.4, 30.4, 30.4, 9.0, 20.0, 19.4, 14.0, 12.4, 17.0, 31.4, 22.4, 27.4, 11.0, 14.0, 16.0, 39.4, 14.0, 16.0, 16.0, 17.0, 26.4, 23.0, 33.4, 19.4, 25.4, 15.4, 16.0, 15.4, 24.0, 20.0, 26.0, 20.4, 14.0, 10.0, 21.4, 24.0, 28.0, 15.4, 23.0, 18.4, 31.4, 36.4, 36.4, 25.4, 35.0, 28.4, 23.4, 21.0, 30.0, 8.0, 31.0, 21.4, 27.0, 20.0, 26.0, 16.0, 23.0, 23.4, 26.0, 23.4, 20.4, 22.0, 24.0, 23.4, 25.4, 17.4, 40.0, 19.0, 18.4, 27.0, 28.0, 12.0, 32.0, 11.4, 38.0, 24.4, 25.4, 29.4, 26.0, 26.0, 14.0, 10.0, 22.0, 29.4, 20.0, 28.4, 24.0, 15.4, 23.0, 15.4, 21.4, 16.0, 14.0, 17.4, 21.0, 6.0, 32.0, 37.4, 26.0, 22.0, 22.0, 27.4, 22.0, 26.4, 22.4, 36.4, 23.4, 26.0, 25.4, 31.4, 18.4, 36.4, 16.0, 27.4, 21.4, 29.4, 24.0, 30.0, 27.4, 26.4, 16.0, 13.4, 19.4, 20.0, 29.4, 39.4, 25.4, 25.4, 16.0, 16.0, 20.4, 16.0, 15.4, 28.4, 41.4, 21.0, 43.4, 24.0, 23.4, 32.0, 0.0, 28.0, 24.0, 21.4, 22.0, 29.0, 35.4, 18.0, 30.0, 29.4, 10.0, 30.4, 29.0, 25.0, 25.4, 10.0, 17.0, 14.0, 23.4, 29.4, 31.4, 30.0, 6.0, 31.4, 27.4, 21.4, 32.0, 30.4, 25.0, 43.4, 14.0, 19.4, 15.4, 28.0, 17.4, 26.0, 29.0, 30.0, 19.0, 26.4, 35.4, 23.4, 22.0, 29.4, 19.0, 17.4, 21.4, 31.4, 42.4, 23.4, 23.0, 31.4, 12.0, 13.4, 18.0, 27.4, 20.0, 29.4, 29.4, 28.4, 23.4, 21.0, 20.0, 18.4, 25.0, 27.4, 15.0, 27.4, 22.4, 29.4, 20.0, 23.4, 26.0, 25.0, 19.0, 24.4, 28.4]\n"
     ]
    }
   ],
   "source": [
    "#Layer 1 Data\n",
    "\n",
    "#GENDER, AGE, HEIGHT, WEIGHT\n",
    "#Heart Rate/BP\n",
    "\n",
    "#Prev Conditions\n",
    "#Kidney\n",
    "#Heart\n",
    "#Lungs\n",
    "#Stroke\n",
    "#Diabetes\n",
    "#Hypertension\n",
    "\n",
    "#Immunocompromised\n",
    "#HIV\n",
    "#Transplant\n",
    "\n",
    "#Symptoms\n",
    "#Fever\n",
    "#Cough\n",
    "#Shortness of breadth\n",
    "\n",
    "#Other Symptoms\n",
    "#Sore throat\n",
    "#headache\n",
    "#muscle pain\n",
    "#chills\n",
    "#nausea/vomiting\n",
    "#nasal congestion\n",
    "#diarrhea\n",
    "\n",
    "Health = []\n",
    "for i in range(num_ppl):\n",
    "    person_data = layer_1[i]\n",
    "    weights_1  = weight\n",
    "    Health.append(np.dot(weights_1,person_data))\n",
    "print(Health)"
   ]
  },
  {
   "cell_type": "code",
   "execution_count": 5,
   "metadata": {},
   "outputs": [
    {
     "data": {
      "text/plain": [
       "Text(0.5, 0, 'People')"
      ]
     },
     "execution_count": 5,
     "metadata": {},
     "output_type": "execute_result"
    },
    {
     "data": {
      "image/png": "[encoded data removed]",
      "text/plain": [
       "<Figure size 432x288 with 1 Axes>"
      ]
     },
     "metadata": {},
     "output_type": "display_data"
    }
   ],
   "source": [
    "plt.plot(Health)\n",
    "plt.ylabel(\"Health_Score\")\n",
    "plt.xlabel(\"People\")"
   ]
  },
  {
   "cell_type": "code",
   "execution_count": 6,
   "metadata": {},
   "outputs": [
    {
     "name": "stdout",
     "output_type": "stream",
     "text": [
      "Min Score: 0.0\n",
      "Max Score: 50.4\n"
     ]
    },
    {
     "data": {
      "text/plain": [
       "22.734199999999998"
      ]
     },
     "execution_count": 6,
     "metadata": {},
     "output_type": "execute_result"
    },
    {
     "data": {
      "image/png": "[encoded data removed]",
      "text/plain": [
       "<Figure size 432x288 with 1 Axes>"
      ]
     },
     "metadata": {},
     "output_type": "display_data"
    }
   ],
   "source": [
    "print(\"Min Score:\",np.min(Health))\n",
    "print(\"Max Score:\",np.max(Health))\n",
    "plt.hist(Health,bins=10)\n",
    "np.mean(Health)"
   ]
  },
  {
   "cell_type": "code",
   "execution_count": 7,
   "metadata": {},
   "outputs": [
    {
     "name": "stdout",
     "output_type": "stream",
     "text": [
      "Self quarantined: 513\n",
      "Testing Required: 487\n"
     ]
    }
   ],
   "source": [
    "testing = 0\n",
    "self_q = 0\n",
    "\n",
    "for i in range(num_ppl):\n",
    "    if (Health[i]>23):\n",
    "        testing += 1\n",
    "    else:\n",
    "        self_q += 1\n",
    "        \n",
    "print(\"Self quarantined:\", self_q)\n",
    "print(\"Testing Required:\", testing)"
   ]
  },
  {
   "cell_type": "code",
   "execution_count": 8,
   "metadata": {},
   "outputs": [
    {
     "name": "stdout",
     "output_type": "stream",
     "text": [
      "39 34 26 24\n",
      "97 83 107 75\n"
     ]
    }
   ],
   "source": [
    "mild_fever_self_q = 0\n",
    "cough_dry_self_q = 0\n",
    "mild_fever_testing = 0\n",
    "cough_dry_testing = 0\n",
    "\n",
    "high_fever_self_q = 0\n",
    "cough_wet_self_q = 0\n",
    "high_fever_testing = 0\n",
    "cough_wet_testing = 0\n",
    "\n",
    "for i in range(num_ppl):\n",
    "    if (Health[i]<23):\n",
    "        if (layer_1[i][14]==1):\n",
    "            mild_fever_self_q += 1 \n",
    "        if (layer_1[i][21]==1):\n",
    "            cough_dry_self_q += 1\n",
    "        if (layer_1[i][15]==1):\n",
    "            high_fever_self_q += 1 \n",
    "        if (layer_1[i][22]==1):\n",
    "            cough_wet_self_q += 1\n",
    "    else:\n",
    "        \n",
    "        if (layer_1[i][14]==1):\n",
    "            mild_fever_testing += 1 \n",
    "        if (layer_1[i][21]==1):\n",
    "            cough_dry_testing += 1\n",
    "        if (layer_1[i][15]==1):\n",
    "            high_fever_testing += 1 \n",
    "        if (layer_1[i][22]==1):\n",
    "            cough_wet_testing += 1\n",
    "            \n",
    "print(mild_fever_self_q,high_fever_self_q,cough_dry_self_q,cough_wet_self_q)\n",
    "print(mild_fever_testing, high_fever_testing,cough_dry_testing,cough_wet_testing)"
   ]
  },
  {
   "cell_type": "code",
   "execution_count": 9,
   "metadata": {},
   "outputs": [
    {
     "data": {
      "text/plain": [
       "Text(0.5, 1.0, 'Self Quarantine Symptoms')"
      ]
     },
     "execution_count": 9,
     "metadata": {},
     "output_type": "execute_result"
    },
    {
     "data": {
      "image/png": "[encoded data removed]",
      "text/plain": [
       "<Figure size 432x288 with 1 Axes>"
      ]
     },
     "metadata": {},
     "output_type": "display_data"
    }
   ],
   "source": [
    "plt.bar([1,2,3,4],[mild_fever_self_q,high_fever_self_q,cough_dry_self_q,cough_wet_self_q],tick_label=[\"mild_fever\",\"high_fever\",\"cough_dry\",\"cough_wet\"])\n",
    "plt.title(\"Self Quarantine Symptoms\")"
   ]
  },
  {
   "cell_type": "code",
   "execution_count": 10,
   "metadata": {},
   "outputs": [
    {
     "data": {
      "text/plain": [
       "Text(0.5, 1.0, 'Testing Symptoms')"
      ]
     },
     "execution_count": 10,
     "metadata": {},
     "output_type": "execute_result"
    },
    {
     "data": {
      "image/png": "[encoded data removed]",
      "text/plain": [
       "<Figure size 432x288 with 1 Axes>"
      ]
     },
     "metadata": {},
     "output_type": "display_data"
    }
   ],
   "source": [
    "plt.bar([1,2,3,4],[mild_fever_testing, high_fever_testing,cough_dry_testing,cough_wet_testing],tick_label=[\"mild_fever\",\"high_fever\",\"cough_dry\",\"cough_wet\"])\n",
    "plt.title(\"Testing Symptoms\")"
   ]
  },
  {
   "cell_type": "code",
   "execution_count": 11,
   "metadata": {},
   "outputs": [
    {
     "name": "stdout",
     "output_type": "stream",
     "text": [
      "190 323\n"
     ]
    }
   ],
   "source": [
    "self_taste = 0\n",
    "test_taste = 0\n",
    "\n",
    "for i in range(num_ppl):\n",
    "    if (Health[i]<23):\n",
    "        if (layer_1[i][35]==1):\n",
    "            self_taste += 1 \n",
    "    else:   \n",
    "        if (layer_1[i][35]==1):\n",
    "            test_taste += 1\n",
    "            \n",
    "print(self_taste,test_taste)"
   ]
  },
  {
   "cell_type": "code",
   "execution_count": 12,
   "metadata": {},
   "outputs": [
    {
     "data": {
      "text/plain": [
       "Text(0.5, 1.0, 'Lack of Taste/Smell')"
      ]
     },
     "execution_count": 12,
     "metadata": {},
     "output_type": "execute_result"
    },
    {
     "data": {
      "image/png": "[encoded data removed]",
      "text/plain": [
       "<Figure size 432x288 with 1 Axes>"
      ]
     },
     "metadata": {},
     "output_type": "display_data"
    }
   ],
   "source": [
    "plt.bar([1,2],[self_taste, test_taste],tick_label=[\"self_q\",\"high_fever\"])\n",
    "plt.title(\"Lack of Taste/Smell\")"
   ]
  },
  {
   "cell_type": "code",
   "execution_count": null,
   "metadata": {},
   "outputs": [],
   "source": []
  }
 ],
 "metadata": {
  "kernelspec": {
   "display_name": "Python 3",
   "language": "python",
   "name": "python3"
  },
  "language_info": {
   "codemirror_mode": {
    "name": "ipython",
    "version": 3
   },
   "file_extension": ".py",
   "mimetype": "text/x-python",
   "name": "python",
   "nbconvert_exporter": "python",
   "pygments_lexer": "ipython3",
   "version": "3.6.5"
  }
 },
 "nbformat": 4,
 "nbformat_minor": 2
}
