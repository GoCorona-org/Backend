{
 "cells": [
  {
   "cell_type": "code",
   "execution_count": 1,
   "metadata": {},
   "outputs": [],
   "source": [
    "import numpy as np\n",
    "import matplotlib.pyplot as plt"
   ]
  },
  {
   "cell_type": "code",
   "execution_count": 2,
   "metadata": {},
   "outputs": [
    {
     "name": "stdout",
     "output_type": "stream",
     "text": [
      "1000\n"
     ]
    }
   ],
   "source": [
    "num_ppl = 1000\n",
    "num = 1\n",
    "layer_1 = []\n",
    "\n",
    "for i in range(num_ppl):\n",
    "    \n",
    "    layer_1_data = np.empty((num,0))\n",
    "\n",
    "    # GENDER, AGE, HEIGHT, WEIGHT\n",
    "    gender = np.random.randint(0,2,(num,1))\n",
    "    gender = np.where(gender==0, -1, gender)\n",
    "    age = np.random.randint(1,100,(num,1))/100\n",
    "    height = np.random.randint(100,200,(num,1))/100\n",
    "    weight = np.random.randint(40,150,(num,1))/100\n",
    "\n",
    "    #Heart Rate\n",
    "    hr = np.random.randint(0,2,(num,1))\n",
    "    #BP\n",
    "    bp = np.random.randint(0,2,(num,1))\n",
    "\n",
    "    #Prev Conditions\n",
    "    #Kidney\n",
    "    k = np.random.randint(0,2,(num,1))\n",
    "    #Heart\n",
    "    hrt = np.random.randint(0,2,(num,1))\n",
    "    #Lungs\n",
    "    l = np.random.randint(0,2,(num,1))\n",
    "    #Stroke\n",
    "    s = np.random.randint(0,2,(num,1))\n",
    "    #Diabetes\n",
    "    d = np.random.randint(0,2,(num,1))\n",
    "    #Hypertension\n",
    "    h =  np.random.randint(0,2,(num,1))\n",
    "    #Immunocompromised\n",
    "    #HIV\n",
    "    hiv = np.random.randint(0,2,(num,1))\n",
    "    #Transplant\n",
    "    trans = np.random.randint(0,2,(num,1))\n",
    "\n",
    "    #Symptoms\n",
    "\n",
    "    def encoding_array(i):\n",
    "        switcher={\n",
    "                    1:np.array([1,0,0,0,0,0,0]),\n",
    "                    2:np.array([0,1,0,0,0,0,0]),\n",
    "                    3:np.array([0,0,1,0,0,0,0]),\n",
    "                    4:np.array([0,0,0,1,0,0,0]),\n",
    "                    5:np.array([0,0,0,0,1,0,0]), \n",
    "                    6:np.array([0,0,0,0,0,1,0]),\n",
    "                    7:np.array([0,0,0,0,0,0,1])\n",
    "                    #'a':np.array([1,0,0,0,0,0,0]),\n",
    "                    #'b':np.array([0,1,0,0,0,0,0]),\n",
    "                    #'c':np.array([0,0,1,0,0,0,0]),\n",
    "                    #'d':np.array([0,0,0,1,0,0,0]),\n",
    "                    #'e':np.array([0,0,0,0,1,0,0]),\n",
    "                    #'f':np.array([0,0,0,0,0,1,0]),\n",
    "                    #'g':np.array([0,0,0,0,0,0,1])\n",
    "                 }\n",
    "        return switcher.get(i,np.array([0,0,0,0,0,0,0]))\n",
    "\n",
    "    #Fever\n",
    "    fever = encoding_array((np.random.randint(0,8)))\n",
    "    #Cough\n",
    "    cough = encoding_array((np.random.randint(0,8)))\n",
    "    #Shortness of breadth\n",
    "    sb = encoding_array(((np.random.randint(0,8))))\n",
    "    #Loss of taste/smell          #Rare Case\n",
    "    ts = np.random.randint(0,2,(num,1))\n",
    "    #Fatigue\n",
    "    f = np.random.randint(0,2,(num,1))\n",
    "\n",
    "    #Other Symptoms\n",
    "    #Sore throat\n",
    "    #headache\n",
    "    #muscle pain\n",
    "    #chills\n",
    "    #nausea/vomiting\n",
    "    #nasal congestion\n",
    "    #diarrhea\n",
    "\n",
    "    os = np.random.randint(0,2,(num,7))\n",
    "    \n",
    "    #Improvement\n",
    "    \n",
    "    sym_impr = encoding_array((np.random.randint(0,8)))\n",
    "    \n",
    "    #Travel info\n",
    "    \n",
    "    international = np.random.randint(0,2,(num,1))\n",
    "    \n",
    "    \n",
    "    #GENDER, AGE, HEIGHT, WEIGHT\n",
    "    #Heart Rate/BP\n",
    "\n",
    "    #Prev Conditions\n",
    "    #Kidney\n",
    "    #Heart\n",
    "    #Lungs\n",
    "    #Stroke\n",
    "    #Diabetes\n",
    "    #Hypertension\n",
    "\n",
    "    #Immunocompromised\n",
    "    #HIV\n",
    "    #Transplant\n",
    "\n",
    "    #Symptoms\n",
    "    #Fever\n",
    "    #Cough\n",
    "    #Shortness of breadth\n",
    "\n",
    "    #Other Symptoms\n",
    "    #Sore throat\n",
    "    #headache\n",
    "    #muscle pain\n",
    "    #chills\n",
    "    #nausea/vomiting\n",
    "    #nasal congestion\n",
    "    #diarrhea\n",
    "    \n",
    "    #Improvement\n",
    "    \n",
    "    #Travel info\n",
    "\n",
    "\n",
    "    layer_1_data = np.append(layer_1_data, gender,axis=1) #GENDER\n",
    "    layer_1_data = np.append(layer_1_data, age,axis=1) # AGE\n",
    "    layer_1_data = np.append(layer_1_data, height,axis=1) # HEIGHT\n",
    "    layer_1_data = np.append(layer_1_data, weight,axis=1) # WEIGHT\n",
    "    layer_1_data = np.append(layer_1_data, hr,axis=1)  #Heart Rate\n",
    "    layer_1_data = np.append(layer_1_data, bp,axis=1)  #BP\n",
    "    layer_1_data = np.append(layer_1_data, k,axis=1) #Kidney\n",
    "    layer_1_data = np.append(layer_1_data, hrt,axis=1) #Heart\n",
    "    layer_1_data = np.append(layer_1_data, l,axis=1) #Lung\n",
    "    layer_1_data = np.append(layer_1_data, s,axis=1) #Stroke\n",
    "    layer_1_data = np.append(layer_1_data, d,axis=1) #Diabetes\n",
    "    layer_1_data = np.append(layer_1_data, h,axis=1) #Hypertension\n",
    "    layer_1_data = np.append(layer_1_data, hiv,axis=1) #HIV\n",
    "    layer_1_data = np.append(layer_1_data, trans,axis=1) #Transplant\n",
    "    layer_1_data = np.append(layer_1_data, fever) #Fever\n",
    "    layer_1_data = np.append(layer_1_data, cough) #Cough\n",
    "    layer_1_data = np.append(layer_1_data, sb) #Shortness of breadth\n",
    "    layer_1_data = np.append(layer_1_data, ts) #Loss of taste/smell\n",
    "    layer_1_data = np.append(layer_1_data, f) #Fatigue\n",
    "    layer_1_data = np.append(layer_1_data,os) #Other Symptoms\n",
    "    layer_1_data = np.append(layer_1_data,sym_impr) #Improvemenet ?\n",
    "    layer_1_data = np.append(layer_1_data,international) #International Travel\n",
    "\n",
    "    # print(layer_1_data.shape)\n",
    "\n",
    "    layer_1.append(layer_1_data)\n",
    "    \n",
    "print(len(layer_1))"
   ]
  },
  {
   "cell_type": "code",
   "execution_count": 3,
   "metadata": {},
   "outputs": [
    {
     "name": "stdout",
     "output_type": "stream",
     "text": [
      "(52,)\n"
     ]
    }
   ],
   "source": [
    "#Layer 1 Data\n",
    "\n",
    "#GENDER, AGE, HEIGHT, WEIGHT\n",
    "#Heart Rate/BP\n",
    "\n",
    "#Prev Conditions\n",
    "#Kidney\n",
    "#Heart\n",
    "#Lungs\n",
    "#Stroke\n",
    "#Diabetes\n",
    "#Hypertension\n",
    "\n",
    "#Immunocompromised\n",
    "#HIV\n",
    "#Transplant\n",
    "\n",
    "#Symptoms\n",
    "#Fever\n",
    "#Cough\n",
    "#Shortness of breadth\n",
    "\n",
    "#Other Symptoms\n",
    "#Sore throat\n",
    "#headache\n",
    "#muscle pain\n",
    "#chills\n",
    "#nausea/vomiting\n",
    "#nasal congestion\n",
    "#diarrhea\n",
    "\n",
    "# GENDER, AGE, HEIGHT, WEIGHT weights\n",
    "weight_gahw = np.array([0,0,0,0])  #4\n",
    "#Heart Rate/BP weights\n",
    "weight_hb = np.array([0,0])  #2\n",
    "#Prev Conditions\n",
    "#kidney\n",
    "#Heart\n",
    "#Lungs\n",
    "#Stroke\n",
    "#Diabetes\n",
    "#Hypertension\n",
    "weight_pc = np.array([0,0,0,0,0,0])  #6\n",
    "#Immunocompromised\n",
    "#HIV\n",
    "#Transplant\n",
    "weight_im = np.array([0,0])  #2\n",
    "#Symptoms\n",
    "#Fever\n",
    "weight_f = np.array([7,8,6,5,0,0,0])  #7\n",
    "#Cough\n",
    "weight_c = np.array([8,6,0,0,0,0,0])  #7\n",
    "#Shortness of breadth\n",
    "weight_sb = np.array([8,0,0,0,0,0,0])  #7\n",
    "#Loss of taste/smell\n",
    "weight_ts = np.array([23])  #1\n",
    "#Fatigue\n",
    "weight_ftg = np.array([6])   #1\n",
    "#Other Symptoms\n",
    "#Sore throat\n",
    "#headache\n",
    "#muscle pain\n",
    "#chills\n",
    "#nausea/vomiting\n",
    "#nasal congestion\n",
    "#diarrhea\n",
    "weight_os = np.array([4,4,4,4,2,2,2])   #7\n",
    "\n",
    "#Improvement\n",
    "weight_impr = np.array([-2,2,4,6,0,0,0])\n",
    "\n",
    "#International Travel\n",
    "weight_international = np.array([23])\n",
    "\n",
    "weight = np.empty((num,0))\n",
    "weight = np.append(weight,weight_gahw)\n",
    "weight = np.append(weight,weight_hb)\n",
    "weight = np.append(weight,weight_pc)\n",
    "weight = np.append(weight,weight_im)\n",
    "weight = np.append(weight,weight_f)\n",
    "weight = np.append(weight,weight_c)\n",
    "weight = np.append(weight,weight_sb)\n",
    "weight = np.append(weight,weight_ts)\n",
    "weight = np.append(weight,weight_ftg)\n",
    "weight = np.append(weight,weight_os)\n",
    "weight = np.append(weight,weight_impr)\n",
    "weight = np.append(weight,weight_international)\n",
    "\n",
    "print(weight.shape)"
   ]
  },
  {
   "cell_type": "code",
   "execution_count": 4,
   "metadata": {},
   "outputs": [
    {
     "name": "stdout",
     "output_type": "stream",
     "text": [
      "[6.0, 55.0, 21.0, 51.0, 49.0, 35.0, 22.0, 49.0, 45.0, 27.0, 38.0, 82.0, 22.0, 31.0, 43.0, 49.0, 44.0, 43.0, 49.0, 53.0, 45.0, 64.0, 55.0, 33.0, 65.0, 16.0, 15.0, 24.0, 55.0, 28.0, 56.0, 45.0, 37.0, 35.0, 33.0, 56.0, 64.0, 37.0, 33.0, 39.0, 41.0, 35.0, 74.0, 62.0, 80.0, 35.0, 47.0, 69.0, 47.0, 67.0, 53.0, 44.0, 15.0, 70.0, 29.0, 24.0, 41.0, 18.0, 50.0, 41.0, 45.0, 41.0, 76.0, 76.0, 72.0, 52.0, 32.0, 45.0, 37.0, 8.0, 8.0, 60.0, 68.0, 49.0, 14.0, 40.0, 43.0, 86.0, 41.0, 53.0, 14.0, 60.0, 12.0, 32.0, 42.0, 33.0, 52.0, 68.0, 39.0, 41.0, 15.0, 65.0, 35.0, 58.0, 37.0, 56.0, 45.0, 24.0, 25.0, 18.0, 37.0, 27.0, 23.0, 43.0, 70.0, 20.0, 39.0, 26.0, 41.0, 61.0, 39.0, 78.0, 53.0, 48.0, 78.0, 50.0, 37.0, 48.0, 15.0, 24.0, 47.0, 43.0, 14.0, 43.0, 71.0, 52.0, 42.0, 63.0, 50.0, 13.0, 67.0, 27.0, 55.0, 42.0, 30.0, 44.0, 51.0, 47.0, 8.0, 48.0, 69.0, 75.0, 14.0, 53.0, 59.0, 70.0, 14.0, 21.0, 66.0, 43.0, 64.0, 39.0, 51.0, 53.0, 72.0, 39.0, 64.0, 71.0, 15.0, 65.0, 57.0, 22.0, 35.0, 16.0, 49.0, 26.0, 39.0, 76.0, 54.0, 37.0, 67.0, 64.0, 53.0, 38.0, 47.0, 37.0, 11.0, 45.0, 66.0, 47.0, 30.0, 22.0, 61.0, 72.0, 17.0, 80.0, 39.0, 14.0, 41.0, 18.0, 44.0, 41.0, 65.0, 75.0, 46.0, 64.0, 56.0, 64.0, 80.0, 27.0, 56.0, 23.0, 59.0, 45.0, 57.0, 62.0, 54.0, 84.0, 18.0, 53.0, 22.0, 24.0, 43.0, 45.0, 15.0, 55.0, 27.0, 70.0, 74.0, 43.0, 24.0, 33.0, 67.0, 72.0, 68.0, 68.0, 12.0, 31.0, 45.0, 22.0, 35.0, 16.0, 39.0, 10.0, 28.0, 30.0, 61.0, 66.0, 18.0, 74.0, 72.0, 49.0, 22.0, 55.0, 71.0, 64.0, 16.0, 70.0, 37.0, 68.0, 35.0, 44.0, 18.0, 70.0, 51.0, 60.0, 34.0, 39.0, 39.0, 43.0, 51.0, 70.0, 47.0, 20.0, 54.0, 62.0, 47.0, 37.0, 60.0, 60.0, 85.0, 64.0, 37.0, 64.0, 18.0, 82.0, 60.0, 19.0, 6.0, 39.0, 22.0, 58.0, 35.0, 77.0, 45.0, 23.0, 39.0, 46.0, 60.0, 43.0, 45.0, 52.0, 35.0, 38.0, 37.0, 50.0, 33.0, 50.0, 12.0, 18.0, 35.0, 47.0, 33.0, 46.0, 16.0, 46.0, 62.0, 37.0, 26.0, 20.0, 14.0, 73.0, 16.0, 40.0, 45.0, 42.0, 47.0, 12.0, 46.0, 74.0, 43.0, 12.0, 66.0, 56.0, 12.0, 45.0, 70.0, 37.0, 16.0, 2.0, 24.0, 50.0, 63.0, 63.0, 24.0, 67.0, 47.0, 47.0, 24.0, 65.0, 52.0, 68.0, 45.0, 37.0, 66.0, 16.0, 53.0, 43.0, 35.0, 43.0, 6.0, 16.0, 24.0, 63.0, 43.0, 33.0, 66.0, 24.0, 49.0, 34.0, 37.0, 16.0, 33.0, 63.0, 22.0, 57.0, 43.0, 60.0, 47.0, 66.0, 22.0, 78.0, 49.0, 38.0, 50.0, 37.0, 53.0, 22.0, 38.0, 26.0, 43.0, 31.0, 22.0, 22.0, 71.0, 35.0, 60.0, 72.0, 49.0, 54.0, 47.0, 30.0, 44.0, 74.0, 80.0, 51.0, 45.0, 53.0, 47.0, 43.0, 58.0, 41.0, 50.0, 43.0, 47.0, 64.0, 37.0, 22.0, 16.0, 51.0, 42.0, 64.0, 35.0, 51.0, 33.0, 15.0, 23.0, 46.0, 25.0, 37.0, 47.0, 33.0, 40.0, 46.0, 56.0, 48.0, 22.0, 16.0, 28.0, 39.0, 16.0, 41.0, 43.0, 10.0, 45.0, 62.0, 70.0, 41.0, 50.0, 51.0, 60.0, 6.0, 22.0, 18.0, 48.0, 49.0, 17.0, 16.0, 23.0, 66.0, 51.0, 16.0, 77.0, 67.0, 62.0, 50.0, 16.0, 57.0, 51.0, 30.0, 27.0, 38.0, 57.0, 6.0, 50.0, 45.0, 37.0, 64.0, 43.0, 10.0, 45.0, 27.0, 35.0, 57.0, 50.0, 86.0, 49.0, 78.0, 31.0, 47.0, 74.0, 36.0, 29.0, 82.0, 19.0, 45.0, 70.0, 41.0, 37.0, 41.0, 48.0, 20.0, 40.0, 14.0, 38.0, 14.0, 48.0, 57.0, 38.0, 62.0, 70.0, 37.0, 49.0, 15.0, 26.0, 42.0, 35.0, 43.0, 62.0, 22.0, 70.0, 22.0, 55.0, 62.0, 43.0, 36.0, 64.0, 20.0, 78.0, 53.0, 24.0, 18.0, 47.0, 47.0, 44.0, 27.0, 47.0, 33.0, 64.0, 64.0, 22.0, 59.0, 21.0, 6.0, 14.0, 18.0, 37.0, 44.0, 60.0, 66.0, 35.0, 78.0, 58.0, 43.0, 59.0, 37.0, 35.0, 14.0, 58.0, 45.0, 52.0, 52.0, 36.0, 24.0, 38.0, 28.0, 26.0, 29.0, 43.0, 66.0, 12.0, 68.0, 28.0, 60.0, 37.0, 41.0, 60.0, 12.0, 58.0, 8.0, 55.0, 87.0, 41.0, 35.0, 67.0, 78.0, 39.0, 51.0, 53.0, 43.0, 39.0, 43.0, 62.0, 62.0, 72.0, 16.0, 53.0, 14.0, 23.0, 47.0, 56.0, 56.0, 50.0, 52.0, 49.0, 48.0, 50.0, 78.0, 34.0, 66.0, 43.0, 58.0, 36.0, 27.0, 63.0, 32.0, 73.0, 39.0, 37.0, 87.0, 69.0, 20.0, 33.0, 20.0, 47.0, 45.0, 15.0, 38.0, 33.0, 64.0, 32.0, 31.0, 64.0, 21.0, 57.0, 70.0, 77.0, 69.0, 70.0, 20.0, 17.0, 42.0, 39.0, 28.0, 49.0, 63.0, 12.0, 55.0, 50.0, 16.0, 50.0, 18.0, 35.0, 41.0, 71.0, 35.0, 34.0, 66.0, 48.0, 27.0, 31.0, 65.0, 8.0, 42.0, 58.0, 82.0, 76.0, 66.0, 66.0, 45.0, 69.0, 16.0, 43.0, 49.0, 37.0, 35.0, 44.0, 53.0, 39.0, 25.0, 33.0, 41.0, 75.0, 20.0, 53.0, 47.0, 35.0, 45.0, 35.0, 25.0, 58.0, 70.0, 58.0, 51.0, 13.0, 49.0, 49.0, 16.0, 55.0, 8.0, 43.0, 55.0, 51.0, 58.0, 35.0, 41.0, 45.0, 53.0, 28.0, 31.0, 48.0, 49.0, 20.0, 74.0, 42.0, 49.0, 66.0, 39.0, 53.0, 45.0, 62.0, 6.0, 48.0, 43.0, 28.0, 16.0, 39.0, 57.0, 40.0, 43.0, 15.0, 53.0, 37.0, 39.0, 10.0, 49.0, 45.0, 8.0, 62.0, 14.0, 76.0, 74.0, 20.0, 16.0, 62.0, 62.0, 64.0, 54.0, 33.0, 47.0, 16.0, 58.0, 39.0, 42.0, 34.0, 20.0, 65.0, 9.0, 26.0, 49.0, 48.0, 22.0, 25.0, 73.0, 22.0, 36.0, 64.0, 20.0, 20.0, 47.0, 25.0, 31.0, 41.0, 47.0, 22.0, 16.0, 78.0, 49.0, 6.0, 76.0, 64.0, 18.0, 49.0, 46.0, 37.0, 32.0, 20.0, 45.0, 51.0, 39.0, 43.0, 55.0, 31.0, 80.0, 43.0, 14.0, 47.0, 27.0, 45.0, 18.0, 39.0, 19.0, 34.0, 43.0, 20.0, 66.0, 35.0, 31.0, 60.0, 41.0, 26.0, 14.0, 39.0, 66.0, 43.0, 37.0, 33.0, 62.0, 49.0, 66.0, 23.0, 41.0, 29.0, 37.0, 37.0, 14.0, 66.0, 33.0, 35.0, 48.0, 64.0, 67.0, 42.0, 14.0, 50.0, 55.0, 39.0, 52.0, 57.0, 24.0, 78.0, 62.0, 64.0, 41.0, 14.0, 54.0, 46.0, 45.0, 30.0, 61.0, 2.0, 18.0, 22.0, 52.0, 69.0, 48.0, 28.0, 77.0, 58.0, 36.0, 27.0, 45.0, 39.0, 40.0, 42.0, 43.0, 76.0, 39.0, 30.0, 35.0, 34.0, 54.0, 25.0, 45.0, 58.0, 21.0, 62.0, 70.0, 23.0, 45.0, 18.0, 18.0, 62.0, 60.0, 9.0, 14.0, 20.0, 44.0, 28.0, 64.0, 47.0, 39.0, 24.0, 6.0, 12.0, 62.0, 56.0, 57.0, 43.0, 12.0, 49.0, 67.0, 43.0, 49.0, 62.0, 31.0, 54.0, 39.0, 52.0, 64.0, 62.0, 58.0, 47.0, 69.0, 16.0, 45.0, 48.0, 43.0, 69.0, 66.0, 39.0, 16.0, 46.0, 39.0, 20.0, 52.0, 47.0, 16.0, 39.0, 61.0, 45.0, 8.0, 41.0, 26.0, 55.0, 38.0, 44.0, 76.0, 16.0, 59.0, 65.0, 24.0, 20.0, 43.0, 45.0, 45.0, 35.0, 69.0, 35.0, 64.0, 42.0, 55.0, 40.0, 37.0, 64.0, 41.0, 70.0, 53.0, 74.0, 42.0, 28.0, 63.0, 45.0, 61.0, 78.0, 56.0, 49.0, 20.0, 63.0, 47.0, 10.0, 28.0, 10.0, 42.0, 42.0, 51.0, 43.0, 18.0, 43.0, 27.0, 47.0, 31.0, 52.0, 41.0, 67.0, 63.0, 62.0, 22.0, 43.0, 56.0, 18.0, 40.0, 35.0, 74.0, 60.0, 12.0, 62.0, 79.0, 47.0, 26.0, 41.0, 41.0, 18.0, 45.0, 12.0, 64.0, 18.0, 42.0, 45.0, 67.0]\n"
     ]
    }
   ],
   "source": [
    "#Layer 1 Data\n",
    "\n",
    "#GENDER, AGE, HEIGHT, WEIGHT\n",
    "#Heart Rate/BP\n",
    "\n",
    "#Prev Conditions\n",
    "#Kidney\n",
    "#Heart\n",
    "#Lungs\n",
    "#Stroke\n",
    "#Diabetes\n",
    "#Hypertension\n",
    "\n",
    "#Immunocompromised\n",
    "#HIV\n",
    "#Transplant\n",
    "\n",
    "#Symptoms\n",
    "#Fever\n",
    "#Cough\n",
    "#Shortness of breadth\n",
    "\n",
    "#Other Symptoms\n",
    "#Sore throat\n",
    "#headache\n",
    "#muscle pain\n",
    "#chills\n",
    "#nausea/vomiting\n",
    "#nasal congestion\n",
    "#diarrhea\n",
    "\n",
    "Health = []\n",
    "for i in range(num_ppl):\n",
    "    person_data = layer_1[i]\n",
    "    weights_1  = weight\n",
    "    Health.append(np.dot(weights_1,person_data))\n",
    "print(Health)"
   ]
  },
  {
   "cell_type": "code",
   "execution_count": 5,
   "metadata": {},
   "outputs": [
    {
     "data": {
      "text/plain": [
       "Text(0.5, 0, 'People')"
      ]
     },
     "execution_count": 5,
     "metadata": {},
     "output_type": "execute_result"
    },
    {
     "data": {
      "image/png": "[encoded data removed]",
      "text/plain": [
       "<Figure size 432x288 with 1 Axes>"
      ]
     },
     "metadata": {},
     "output_type": "display_data"
    }
   ],
   "source": [
    "plt.plot(Health)\n",
    "plt.ylabel(\"Health_Score\")\n",
    "plt.xlabel(\"People\")"
   ]
  },
  {
   "cell_type": "code",
   "execution_count": 6,
   "metadata": {},
   "outputs": [
    {
     "name": "stdout",
     "output_type": "stream",
     "text": [
      "Min Score: 2.0\n",
      "Max Score: 87.0\n"
     ]
    },
    {
     "data": {
      "text/plain": [
       "43.292"
      ]
     },
     "execution_count": 6,
     "metadata": {},
     "output_type": "execute_result"
    },
    {
     "data": {
      "image/png": "[encoded data removed]",
      "text/plain": [
       "<Figure size 432x288 with 1 Axes>"
      ]
     },
     "metadata": {},
     "output_type": "display_data"
    }
   ],
   "source": [
    "print(\"Min Score:\",np.min(Health))\n",
    "print(\"Max Score:\",np.max(Health))\n",
    "plt.hist(Health,bins=10)\n",
    "np.mean(Health)"
   ]
  },
  {
   "cell_type": "code",
   "execution_count": 7,
   "metadata": {},
   "outputs": [
    {
     "name": "stdout",
     "output_type": "stream",
     "text": [
      "Self quarantined: 184\n",
      "Testing Required: 816\n"
     ]
    }
   ],
   "source": [
    "testing = 0\n",
    "self_q = 0\n",
    "\n",
    "for i in range(num_ppl):\n",
    "    if (Health[i]>23):\n",
    "        testing += 1\n",
    "    else:\n",
    "        self_q += 1\n",
    "        \n",
    "print(\"Self quarantined:\", self_q)\n",
    "print(\"Testing Required:\", testing)"
   ]
  },
  {
   "cell_type": "code",
   "execution_count": 8,
   "metadata": {},
   "outputs": [
    {
     "name": "stdout",
     "output_type": "stream",
     "text": [
      "10 19 7 18\n",
      "103 99 124 107\n"
     ]
    }
   ],
   "source": [
    "mild_fever_self_q = 0\n",
    "cough_dry_self_q = 0\n",
    "mild_fever_testing = 0\n",
    "cough_dry_testing = 0\n",
    "\n",
    "high_fever_self_q = 0\n",
    "cough_wet_self_q = 0\n",
    "high_fever_testing = 0\n",
    "cough_wet_testing = 0\n",
    "\n",
    "for i in range(num_ppl):\n",
    "    if (Health[i]<23):\n",
    "        if (layer_1[i][14]==1):\n",
    "            mild_fever_self_q += 1 \n",
    "        if (layer_1[i][21]==1):\n",
    "            cough_dry_self_q += 1\n",
    "        if (layer_1[i][15]==1):\n",
    "            high_fever_self_q += 1 \n",
    "        if (layer_1[i][22]==1):\n",
    "            cough_wet_self_q += 1\n",
    "    else:\n",
    "        \n",
    "        if (layer_1[i][14]==1):\n",
    "            mild_fever_testing += 1 \n",
    "        if (layer_1[i][21]==1):\n",
    "            cough_dry_testing += 1\n",
    "        if (layer_1[i][15]==1):\n",
    "            high_fever_testing += 1 \n",
    "        if (layer_1[i][22]==1):\n",
    "            cough_wet_testing += 1\n",
    "            \n",
    "print(mild_fever_self_q,high_fever_self_q,cough_dry_self_q,cough_wet_self_q)\n",
    "print(mild_fever_testing, high_fever_testing,cough_dry_testing,cough_wet_testing)"
   ]
  },
  {
   "cell_type": "code",
   "execution_count": 9,
   "metadata": {},
   "outputs": [
    {
     "data": {
      "text/plain": [
       "Text(0.5, 1.0, 'Self Quarantine Symptoms')"
      ]
     },
     "execution_count": 9,
     "metadata": {},
     "output_type": "execute_result"
    },
    {
     "data": {
      "image/png": "[encoded data removed]",
      "text/plain": [
       "<Figure size 432x288 with 1 Axes>"
      ]
     },
     "metadata": {},
     "output_type": "display_data"
    }
   ],
   "source": [
    "plt.bar([1,2,3,4],[mild_fever_self_q,high_fever_self_q,cough_dry_self_q,cough_wet_self_q],tick_label=[\"mild_fever\",\"high_fever\",\"cough_dry\",\"cough_wet\"])\n",
    "plt.title(\"Self Quarantine Symptoms\")"
   ]
  },
  {
   "cell_type": "code",
   "execution_count": 10,
   "metadata": {},
   "outputs": [
    {
     "data": {
      "text/plain": [
       "Text(0.5, 1.0, 'Testing Symptoms')"
      ]
     },
     "execution_count": 10,
     "metadata": {},
     "output_type": "execute_result"
    },
    {
     "data": {
      "image/png": "[encoded data removed]",
      "text/plain": [
       "<Figure size 432x288 with 1 Axes>"
      ]
     },
     "metadata": {},
     "output_type": "display_data"
    }
   ],
   "source": [
    "plt.bar([1,2,3,4],[mild_fever_testing, high_fever_testing,cough_dry_testing,cough_wet_testing],tick_label=[\"mild_fever\",\"high_fever\",\"cough_dry\",\"cough_wet\"])\n",
    "plt.title(\"Testing Symptoms\")"
   ]
  },
  {
   "cell_type": "code",
   "execution_count": 11,
   "metadata": {},
   "outputs": [
    {
     "name": "stdout",
     "output_type": "stream",
     "text": [
      "0 474\n"
     ]
    }
   ],
   "source": [
    "self_taste = 0\n",
    "test_taste = 0\n",
    "\n",
    "for i in range(num_ppl):\n",
    "    if (Health[i]<23):\n",
    "        if (layer_1[i][35]==1):\n",
    "            self_taste += 1 \n",
    "    else:   \n",
    "        if (layer_1[i][35]==1):\n",
    "            test_taste += 1\n",
    "            \n",
    "print(self_taste,test_taste)"
   ]
  },
  {
   "cell_type": "code",
   "execution_count": 12,
   "metadata": {},
   "outputs": [
    {
     "data": {
      "text/plain": [
       "Text(0.5, 1.0, 'Lack of Taste/Smell')"
      ]
     },
     "execution_count": 12,
     "metadata": {},
     "output_type": "execute_result"
    },
    {
     "data": {
      "image/png": "[encoded data removed]",
      "text/plain": [
       "<Figure size 432x288 with 1 Axes>"
      ]
     },
     "metadata": {},
     "output_type": "display_data"
    }
   ],
   "source": [
    "plt.bar([1,2],[self_taste, test_taste],tick_label=[\"self_q\",\"testing\"])\n",
    "plt.title(\"Lack of Taste/Smell\")"
   ]
  },
  {
   "cell_type": "code",
   "execution_count": 13,
   "metadata": {},
   "outputs": [
    {
     "name": "stdout",
     "output_type": "stream",
     "text": [
      "504 496\n"
     ]
    }
   ],
   "source": [
    "international_travellers = 0\n",
    "\n",
    "for i in range(num_ppl):\n",
    "    if (layer_1[i][-1]==1):\n",
    "        international_travellers += 1\n",
    "        \n",
    "domestic_travellers = num_ppl - international_travellers\n",
    "            \n",
    "print(international_travellers, domestic_travellers)"
   ]
  },
  {
   "cell_type": "code",
   "execution_count": 14,
   "metadata": {},
   "outputs": [
    {
     "data": {
      "text/plain": [
       "Text(0.5, 1.0, 'Travel Info')"
      ]
     },
     "execution_count": 14,
     "metadata": {},
     "output_type": "execute_result"
    },
    {
     "data": {
      "image/png": "[encoded data removed]",
      "text/plain": [
       "<Figure size 432x288 with 1 Axes>"
      ]
     },
     "metadata": {},
     "output_type": "display_data"
    }
   ],
   "source": [
    "plt.bar([1,2],[international_travellers, domestic_travellers],tick_label=[\"international\",\"domestic\"])\n",
    "plt.title(\"Travel Info\")"
   ]
  },
  {
   "cell_type": "code",
   "execution_count": null,
   "metadata": {},
   "outputs": [],
   "source": []
  }
 ],
 "metadata": {
  "kernelspec": {
   "display_name": "Python 3",
   "language": "python",
   "name": "python3"
  },
  "language_info": {
   "codemirror_mode": {
    "name": "ipython",
    "version": 3
   },
   "file_extension": ".py",
   "mimetype": "text/x-python",
   "name": "python",
   "nbconvert_exporter": "python",
   "pygments_lexer": "ipython3",
   "version": "3.6.5"
  }
 },
 "nbformat": 4,
 "nbformat_minor": 2
}
